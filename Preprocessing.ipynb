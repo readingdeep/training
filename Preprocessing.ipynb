{
 "cells": [
  {
   "cell_type": "code",
   "execution_count": 1,
   "id": "cbf8d4ef",
   "metadata": {
    "ExecuteTime": {
     "end_time": "2021-06-02T07:08:32.433191Z",
     "start_time": "2021-06-02T07:08:28.057201Z"
    }
   },
   "outputs": [],
   "source": [
    "import pandas as pd\n",
    "import nltk\n",
    "import numpy as np"
   ]
  },
  {
   "cell_type": "code",
   "execution_count": 3,
   "id": "3229f661",
   "metadata": {},
   "outputs": [
    {
     "data": {
      "text/html": [
       "<div>\n",
       "<style scoped>\n",
       "    .dataframe tbody tr th:only-of-type {\n",
       "        vertical-align: middle;\n",
       "    }\n",
       "\n",
       "    .dataframe tbody tr th {\n",
       "        vertical-align: top;\n",
       "    }\n",
       "\n",
       "    .dataframe thead th {\n",
       "        text-align: right;\n",
       "    }\n",
       "</style>\n",
       "<table border=\"1\" class=\"dataframe\">\n",
       "  <thead>\n",
       "    <tr style=\"text-align: right;\">\n",
       "      <th></th>\n",
       "      <th>0</th>\n",
       "      <th>1</th>\n",
       "      <th>2</th>\n",
       "    </tr>\n",
       "  </thead>\n",
       "  <tbody>\n",
       "    <tr>\n",
       "      <th>0</th>\n",
       "      <td>aback</td>\n",
       "      <td>anger</td>\n",
       "      <td>0</td>\n",
       "    </tr>\n",
       "    <tr>\n",
       "      <th>1</th>\n",
       "      <td>aback</td>\n",
       "      <td>anticipation</td>\n",
       "      <td>0</td>\n",
       "    </tr>\n",
       "    <tr>\n",
       "      <th>2</th>\n",
       "      <td>aback</td>\n",
       "      <td>disgust</td>\n",
       "      <td>0</td>\n",
       "    </tr>\n",
       "    <tr>\n",
       "      <th>3</th>\n",
       "      <td>aback</td>\n",
       "      <td>fear</td>\n",
       "      <td>0</td>\n",
       "    </tr>\n",
       "    <tr>\n",
       "      <th>4</th>\n",
       "      <td>aback</td>\n",
       "      <td>joy</td>\n",
       "      <td>0</td>\n",
       "    </tr>\n",
       "  </tbody>\n",
       "</table>\n",
       "</div>"
      ],
      "text/plain": [
       "       0             1  2\n",
       "0  aback         anger  0\n",
       "1  aback  anticipation  0\n",
       "2  aback       disgust  0\n",
       "3  aback          fear  0\n",
       "4  aback           joy  0"
      ]
     },
     "execution_count": 3,
     "metadata": {},
     "output_type": "execute_result"
    }
   ],
   "source": [
    "labeled_words = pd.read_csv('nrc/NRC-Emotion-Lexicon-Wordlevel-v0.92.txt', delimiter=\"\\t\", header=None)\n",
    "labeled_words.head()"
   ]
  },
  {
   "cell_type": "code",
   "execution_count": 9,
   "id": "74bf3402",
   "metadata": {},
   "outputs": [],
   "source": [
    "labeled_words.columns = ['word', 'emotion', 'label']"
   ]
  },
  {
   "cell_type": "code",
   "execution_count": 10,
   "id": "d1ab9ae3",
   "metadata": {},
   "outputs": [
    {
     "data": {
      "text/html": [
       "<div>\n",
       "<style scoped>\n",
       "    .dataframe tbody tr th:only-of-type {\n",
       "        vertical-align: middle;\n",
       "    }\n",
       "\n",
       "    .dataframe tbody tr th {\n",
       "        vertical-align: top;\n",
       "    }\n",
       "\n",
       "    .dataframe thead th {\n",
       "        text-align: right;\n",
       "    }\n",
       "</style>\n",
       "<table border=\"1\" class=\"dataframe\">\n",
       "  <thead>\n",
       "    <tr style=\"text-align: right;\">\n",
       "      <th></th>\n",
       "      <th>label</th>\n",
       "    </tr>\n",
       "    <tr>\n",
       "      <th>word</th>\n",
       "      <th></th>\n",
       "    </tr>\n",
       "  </thead>\n",
       "  <tbody>\n",
       "    <tr>\n",
       "      <th>aback</th>\n",
       "      <td>0</td>\n",
       "    </tr>\n",
       "    <tr>\n",
       "      <th>abacus</th>\n",
       "      <td>1</td>\n",
       "    </tr>\n",
       "    <tr>\n",
       "      <th>abandon</th>\n",
       "      <td>3</td>\n",
       "    </tr>\n",
       "    <tr>\n",
       "      <th>abandoned</th>\n",
       "      <td>4</td>\n",
       "    </tr>\n",
       "    <tr>\n",
       "      <th>abandonment</th>\n",
       "      <td>5</td>\n",
       "    </tr>\n",
       "    <tr>\n",
       "      <th>...</th>\n",
       "      <td>...</td>\n",
       "    </tr>\n",
       "    <tr>\n",
       "      <th>zone</th>\n",
       "      <td>0</td>\n",
       "    </tr>\n",
       "    <tr>\n",
       "      <th>zoo</th>\n",
       "      <td>0</td>\n",
       "    </tr>\n",
       "    <tr>\n",
       "      <th>zoological</th>\n",
       "      <td>0</td>\n",
       "    </tr>\n",
       "    <tr>\n",
       "      <th>zoology</th>\n",
       "      <td>0</td>\n",
       "    </tr>\n",
       "    <tr>\n",
       "      <th>zoom</th>\n",
       "      <td>0</td>\n",
       "    </tr>\n",
       "  </tbody>\n",
       "</table>\n",
       "<p>14181 rows × 1 columns</p>\n",
       "</div>"
      ],
      "text/plain": [
       "             label\n",
       "word              \n",
       "aback            0\n",
       "abacus           1\n",
       "abandon          3\n",
       "abandoned        4\n",
       "abandonment      5\n",
       "...            ...\n",
       "zone             0\n",
       "zoo              0\n",
       "zoological       0\n",
       "zoology          0\n",
       "zoom             0\n",
       "\n",
       "[14181 rows x 1 columns]"
      ]
     },
     "execution_count": 10,
     "metadata": {},
     "output_type": "execute_result"
    }
   ],
   "source": [
    "labeled_words.groupby('word')['label'].sum().to_frame()"
   ]
  },
  {
   "cell_type": "code",
   "execution_count": 119,
   "id": "2a80c9f0",
   "metadata": {
    "ExecuteTime": {
     "end_time": "2021-06-02T08:44:58.079551Z",
     "start_time": "2021-06-02T08:44:58.061035Z"
    }
   },
   "outputs": [
    {
     "name": "stderr",
     "output_type": "stream",
     "text": [
      "<ipython-input-119-dc46ebe2e763>:6: ParserWarning: Falling back to the 'python' engine because the 'c' engine does not support regex separators (separators > 1 char and different from '\\s+' are interpreted as regex); you can avoid this warning by specifying engine='python'.\n",
      "  book_sample = pd.read_csv(book, delimiter='\\n \\n', header=None, names=['text'])\n"
     ]
    },
    {
     "data": {
      "text/html": [
       "<div>\n",
       "<style scoped>\n",
       "    .dataframe tbody tr th:only-of-type {\n",
       "        vertical-align: middle;\n",
       "    }\n",
       "\n",
       "    .dataframe tbody tr th {\n",
       "        vertical-align: top;\n",
       "    }\n",
       "\n",
       "    .dataframe thead th {\n",
       "        text-align: right;\n",
       "    }\n",
       "</style>\n",
       "<table border=\"1\" class=\"dataframe\">\n",
       "  <thead>\n",
       "    <tr style=\"text-align: right;\">\n",
       "      <th></th>\n",
       "      <th>text</th>\n",
       "    </tr>\n",
       "  </thead>\n",
       "  <tbody>\n",
       "    <tr>\n",
       "      <th>0</th>\n",
       "      <td>The Project Gutenberg EBook of The Confessions...</td>\n",
       "    </tr>\n",
       "    <tr>\n",
       "      <th>1</th>\n",
       "      <td>This eBook is for the use of anyone anywhere a...</td>\n",
       "    </tr>\n",
       "    <tr>\n",
       "      <th>2</th>\n",
       "      <td>almost no restrictions whatsoever.  You may co...</td>\n",
       "    </tr>\n",
       "    <tr>\n",
       "      <th>3</th>\n",
       "      <td>re-use it under the terms of the Project Guten...</td>\n",
       "    </tr>\n",
       "    <tr>\n",
       "      <th>4</th>\n",
       "      <td>with this eBook or online at www.gutenberg.org</td>\n",
       "    </tr>\n",
       "    <tr>\n",
       "      <th>...</th>\n",
       "      <td>...</td>\n",
       "    </tr>\n",
       "    <tr>\n",
       "      <th>2536</th>\n",
       "      <td>https://www.gutenberg.org</td>\n",
       "    </tr>\n",
       "    <tr>\n",
       "      <th>2537</th>\n",
       "      <td>This Web site includes information about Proje...</td>\n",
       "    </tr>\n",
       "    <tr>\n",
       "      <th>2538</th>\n",
       "      <td>including how to make donations to the Project...</td>\n",
       "    </tr>\n",
       "    <tr>\n",
       "      <th>2539</th>\n",
       "      <td>Archive Foundation, how to help produce our ne...</td>\n",
       "    </tr>\n",
       "    <tr>\n",
       "      <th>2540</th>\n",
       "      <td>subscribe to our email newsletter to hear abou...</td>\n",
       "    </tr>\n",
       "  </tbody>\n",
       "</table>\n",
       "<p>2541 rows × 1 columns</p>\n",
       "</div>"
      ],
      "text/plain": [
       "                                                   text\n",
       "0     The Project Gutenberg EBook of The Confessions...\n",
       "1     This eBook is for the use of anyone anywhere a...\n",
       "2     almost no restrictions whatsoever.  You may co...\n",
       "3     re-use it under the terms of the Project Guten...\n",
       "4        with this eBook or online at www.gutenberg.org\n",
       "...                                                 ...\n",
       "2536                          https://www.gutenberg.org\n",
       "2537  This Web site includes information about Proje...\n",
       "2538  including how to make donations to the Project...\n",
       "2539  Archive Foundation, how to help produce our ne...\n",
       "2540  subscribe to our email newsletter to hear abou...\n",
       "\n",
       "[2541 rows x 1 columns]"
      ]
     },
     "execution_count": 119,
     "metadata": {},
     "output_type": "execute_result"
    }
   ],
   "source": [
    "import glob\n",
    "BOOKS_PATH = 'gutenberg_data/'\n",
    "all_books = glob.glob(BOOKS_PATH + '*')\n",
    "with open(all_books[0], 'r') as book:\n",
    "#     book_sample = pd.DataFrame(book.readlines(), columns=['text'])\n",
    "    book_sample = pd.read_csv(book, delimiter='\\n \\n', header=None, names=['text'])\n",
    "book_sample"
   ]
  },
  {
   "cell_type": "code",
   "execution_count": 142,
   "id": "830efaa3",
   "metadata": {
    "ExecuteTime": {
     "end_time": "2021-06-02T09:00:41.362708Z",
     "start_time": "2021-06-02T09:00:41.356419Z"
    }
   },
   "outputs": [],
   "source": [
    "paragraphs = []\n",
    "par = []\n",
    "with open(all_books[0], 'r') as paragraphs_file:\n",
    "    for sentence in paragraphs_file: #one line until the end of file\n",
    "        if sentence != \"\\n \\n\" and sentence != \"\\n\" and sentence != \"\\n\\n\" and sentence != '':\n",
    "            par.append(sentence)\n",
    "        else:\n",
    "            paragraphs.append(\" \".join(par))\n",
    "            par = []\n",
    "        "
   ]
  },
  {
   "cell_type": "code",
   "execution_count": 156,
   "id": "828c0cb5",
   "metadata": {
    "ExecuteTime": {
     "end_time": "2021-06-02T09:29:05.784864Z",
     "start_time": "2021-06-02T09:29:05.780910Z"
    }
   },
   "outputs": [],
   "source": [
    "def get_paragraphs(filename):\n",
    "    paragraphs = []\n",
    "    par = []\n",
    "    with open(filename, 'r') as paragraphs_file:\n",
    "        for sentence in paragraphs_file: #one line until the end of file\n",
    "            if sentence != \"\\n \\n\" and sentence != \"\\n\" and sentence != \"\\n\\n\" and sentence != '':\n",
    "                par.append(sentence)\n",
    "            else:\n",
    "                paragraphs.append(\" \".join(par))\n",
    "                par = []\n",
    "    return paragraphs"
   ]
  },
  {
   "cell_type": "code",
   "execution_count": 154,
   "id": "fdcb24c8",
   "metadata": {
    "ExecuteTime": {
     "end_time": "2021-06-02T09:25:53.664946Z",
     "start_time": "2021-06-02T09:25:53.659982Z"
    }
   },
   "outputs": [
    {
     "data": {
      "text/plain": [
       "'36970'"
      ]
     },
     "execution_count": 154,
     "metadata": {},
     "output_type": "execute_result"
    }
   ],
   "source": [
    "pd.DataFrame(paragraphs, columns=['text'])"
   ]
  },
  {
   "cell_type": "markdown",
   "id": "a6800f80",
   "metadata": {},
   "source": [
    "Finding out when the book actually starts"
   ]
  },
  {
   "cell_type": "code",
   "execution_count": 67,
   "id": "bfafef03",
   "metadata": {
    "ExecuteTime": {
     "end_time": "2021-06-02T08:05:03.712164Z",
     "start_time": "2021-06-02T08:05:03.709939Z"
    }
   },
   "outputs": [],
   "source": [
    "START_STRING = 'START OF THIS PROJECT GUTENBERG EBOOK'\n",
    "END_STRING = 'END OF THIS PROJECT GUTENBERG EBOOK'"
   ]
  },
  {
   "cell_type": "code",
   "execution_count": 148,
   "id": "57b135d0",
   "metadata": {
    "ExecuteTime": {
     "end_time": "2021-06-02T09:05:11.583478Z",
     "start_time": "2021-06-02T09:05:11.571269Z"
    }
   },
   "outputs": [
    {
     "data": {
      "text/html": [
       "<div>\n",
       "<style scoped>\n",
       "    .dataframe tbody tr th:only-of-type {\n",
       "        vertical-align: middle;\n",
       "    }\n",
       "\n",
       "    .dataframe tbody tr th {\n",
       "        vertical-align: top;\n",
       "    }\n",
       "\n",
       "    .dataframe thead th {\n",
       "        text-align: right;\n",
       "    }\n",
       "</style>\n",
       "<table border=\"1\" class=\"dataframe\">\n",
       "  <thead>\n",
       "    <tr style=\"text-align: right;\">\n",
       "      <th></th>\n",
       "      <th>text</th>\n",
       "    </tr>\n",
       "  </thead>\n",
       "  <tbody>\n",
       "    <tr>\n",
       "      <th>50</th>\n",
       "      <td>In August and September we would capture immen...</td>\n",
       "    </tr>\n",
       "    <tr>\n",
       "      <th>51</th>\n",
       "      <td>In winter, snipe were always numerous on the m...</td>\n",
       "    </tr>\n",
       "    <tr>\n",
       "      <th>52</th>\n",
       "      <td>During the rigour of winter great flocks of mi...</td>\n",
       "    </tr>\n",
       "    <tr>\n",
       "      <th>53</th>\n",
       "      <td>\"The water was surrounded with huge nets, fast...</td>\n",
       "    </tr>\n",
       "    <tr>\n",
       "      <th>54</th>\n",
       "      <td>In addition to our nets and snares we had a pr...</td>\n",
       "    </tr>\n",
       "    <tr>\n",
       "      <th>55</th>\n",
       "      <td>A curious little bird, the grebe or dabchick, ...</td>\n",
       "    </tr>\n",
       "    <tr>\n",
       "      <th>56</th>\n",
       "      <td>Chapter 4.\\n</td>\n",
       "    </tr>\n",
       "    <tr>\n",
       "      <th>57</th>\n",
       "      <td>PARTRIDGE POACHING.\\n</td>\n",
       "    </tr>\n",
       "    <tr>\n",
       "      <th>58</th>\n",
       "      <td>The bloom on the brambles; the ripening of the...</td>\n",
       "    </tr>\n",
       "    <tr>\n",
       "      <th>59</th>\n",
       "      <td>A long life of poaching has not cooled our ard...</td>\n",
       "    </tr>\n",
       "  </tbody>\n",
       "</table>\n",
       "</div>"
      ],
      "text/plain": [
       "                                                 text\n",
       "50  In August and September we would capture immen...\n",
       "51  In winter, snipe were always numerous on the m...\n",
       "52  During the rigour of winter great flocks of mi...\n",
       "53  \"The water was surrounded with huge nets, fast...\n",
       "54  In addition to our nets and snares we had a pr...\n",
       "55  A curious little bird, the grebe or dabchick, ...\n",
       "56                                       Chapter 4.\\n\n",
       "57                              PARTRIDGE POACHING.\\n\n",
       "58  The bloom on the brambles; the ripening of the...\n",
       "59  A long life of poaching has not cooled our ard..."
      ]
     },
     "execution_count": 148,
     "metadata": {},
     "output_type": "execute_result"
    }
   ],
   "source": [
    "start_idx = book_sample[book_sample['text'].str.contains(START_STRING)].index[0] + 1\n",
    "book = book_sample.iloc[start_idx:].reset_index(drop=True)\n",
    "end_idx = book[book['text'].str.contains(END_STRING)].index[0]\n",
    "book = book[:end_idx].reset_index(drop=True)\n",
    "book = book.drop_duplicates(ignore_index=True)"
   ]
  },
  {
   "cell_type": "markdown",
   "id": "3a1c7cf2",
   "metadata": {},
   "source": [
    "Removing newlines (getting paragraphs)"
   ]
  },
  {
   "cell_type": "code",
   "execution_count": 150,
   "id": "0a4bd463",
   "metadata": {
    "ExecuteTime": {
     "end_time": "2021-06-02T09:05:32.370437Z",
     "start_time": "2021-06-02T09:05:32.361011Z"
    }
   },
   "outputs": [
    {
     "data": {
      "text/plain": [
       "'|      | 50                                                                        |\\n|:-----|:--------------------------------------------------------------------------|\\n| text | In August and September we would capture immense numbers of               |\\n|      |  \"flappers\"--plump wild ducks--but, as yet, unable to fly. These were     |\\n|      |  either caught in the pools, or chased into nets which we set to          |\\n|      |  intercept them. As I now took more than my share of the work, and made   |\\n|      |  all the gins, springes, and noozes which we used, a rough kind of        |\\n|      |  partnership sprung up between us. The young ducks brought us good        |\\n|      |  prices, and there was another source of income which paid well, but was  |\\n|      |  not of long duration. There is a short period in each year when even the |\\n|      |  matured wild ducks are quite unable to fly. The male of the common wild  |\\n|      |  duck is called the mallard, and soon after his brown duck begins to sit  |\\n|      |  the drake moults the whole of its flight feathers. So sudden and         |\\n|      |  simultaneous is this process that for six weeks in summer the usually    |\\n|      |  handsome drake is quite incapable of flight, and it is probably at this  |\\n|      |  period of its ground existence that the assumption of the duck\\'s plumage |\\n|      |  is such an aid to protection. Quite the handsomest of the wildfowl on    |\\n|      |  the marsh were a colony of sheldrakes which occupied a number of disused |\\n|      |  rabbit-burrows on a raised plateau overlooking the bay. The ducks were   |\\n|      |  bright chestnut, white, and purple, and in May laid from nine to a dozen |\\n|      |  creamy eggs. As these birds brought high prices for stocking ornamental  |\\n|      |  waters, we used to collect the eggs and hatch them out under hens in the |\\n|      |  turf cottage. This was a quite successful experiment up to a certain     |\\n|      |  point; but the young fowl, immediately they were hatched, seemed to be   |\\n|      |  able to smell the salt water, and would cover miles to gain the creek.   |\\n|      |  With all our combined watchfulness the downy ducklings sometimes         |\\n|      |  succeeded in reaching their loved briny element, and once in the sea     |\\n|      |  were never seen again. The pretty sea swallows used to breed on the      |\\n|      |  marsh, and the curious ruffs and reeves. These indulged in the strangest |\\n|      |  flights at breeding time, and it was then that we used to capture the    |\\n|      |  greatest numbers. We took them alive in nets, and then fattened them on  |\\n|      |  soaked wheat. The birds were sent all the way to London, and brought     |\\n|      |  good prices. By being kept closely confined and frequently fed, in a     |\\n|      |  fortnight they became so plump as to resemble balls of fat, and then     |\\n|      |  brought as much as a florin a piece. If care were not taken to kill the  |\\n|      |  birds just when they attained to their greatest degree of fatness they   |\\n|      |  fell rapidly in condition, and were nearly worthless. To kill them we    |\\n|      |  were wont to pinch off the head, and when all the blood had exuded the   |\\n|      |  flesh remained white and delicate. Greater delicacies even than ruffs    |\\n|      |  and reeves were godwits, which were fatted in like manner for the table. |\\n|      |  Experiments in fattening were upon one occasion successfully tried with  |\\n|      |  a brood of greylag geese which we discovered on the marshes. As this is  |\\n|      |  the species from which the domestic stock is descended, we found little  |\\n|      |  difficulty in herding, though we were always careful to house them at    |\\n|      |  night, and pinioned them as the time of the autumnal migration came      |\\n|      |  round. We well knew that the skeins of wild geese which at this time     |\\n|      |  nightly cross the sky, calling as they fly, would soon have robbed us of |\\n|      |  our little flock.                                                        |'"
      ]
     },
     "execution_count": 150,
     "metadata": {},
     "output_type": "execute_result"
    }
   ],
   "source": [
    "book.drop_duplicates().reset_index(drop=True).iloc[50].to_markdown()"
   ]
  },
  {
   "cell_type": "markdown",
   "id": "b939ee46",
   "metadata": {},
   "source": [
    "Get book id:"
   ]
  },
  {
   "cell_type": "markdown",
   "id": "e543c79a",
   "metadata": {},
   "source": [
    "# Pipeline"
   ]
  },
  {
   "cell_type": "code",
   "execution_count": 252,
   "id": "76e8d9c8",
   "metadata": {
    "ExecuteTime": {
     "end_time": "2021-06-02T10:14:37.183085Z",
     "start_time": "2021-06-02T10:14:34.781927Z"
    }
   },
   "outputs": [],
   "source": [
    "text = []\n",
    "book_ids = []\n",
    "paragraph_ids = []\n",
    "error = []\n",
    "for book_file in all_books:\n",
    "    paragraphs = get_paragraphs(book_file)\n",
    "    book_df = pd.DataFrame(paragraphs, columns=['text'])\n",
    "    book_id = int(book_file.split('/')[-1].replace('.txt', ''))\n",
    "    try:\n",
    "        start_idx = book_df[book_df['text'].str.contains(START_STRING)].index[0] + 1\n",
    "        book = book_df.iloc[start_idx:].reset_index(drop=True)\n",
    "        end_idx = book[book['text'].str.contains(END_STRING)].index[0]\n",
    "        book = book[:end_idx].reset_index(drop=True)\n",
    "        book = book.drop_duplicates(ignore_index=True)\n",
    "        for i in range(len(book)):\n",
    "            book_ids.append(int(book_id))\n",
    "            paragraph_ids.append(f'{book_id}_{i}')\n",
    "        text.append(book.values.ravel().tolist())\n",
    "    except IndexError:\n",
    "        error.append(book_id)\n"
   ]
  },
  {
   "cell_type": "code",
   "execution_count": 215,
   "id": "f674c276",
   "metadata": {
    "ExecuteTime": {
     "end_time": "2021-06-02T10:03:22.004254Z",
     "start_time": "2021-06-02T10:03:22.001906Z"
    }
   },
   "outputs": [],
   "source": [
    "import numpy as np"
   ]
  },
  {
   "cell_type": "code",
   "execution_count": 254,
   "id": "31a06140",
   "metadata": {
    "ExecuteTime": {
     "end_time": "2021-06-02T10:14:50.633484Z",
     "start_time": "2021-06-02T10:14:50.572241Z"
    }
   },
   "outputs": [],
   "source": [
    "dict_ = {\n",
    "    'book_id': np.array(book_ids),\n",
    "    'paragraph_id': np.array(paragraph_ids),\n",
    "    'text': [item for sublist in text for item in sublist]\n",
    "}"
   ]
  },
  {
   "cell_type": "code",
   "execution_count": 255,
   "id": "2a94e9f1",
   "metadata": {
    "ExecuteTime": {
     "end_time": "2021-06-02T10:14:52.693353Z",
     "start_time": "2021-06-02T10:14:52.621562Z"
    }
   },
   "outputs": [],
   "source": [
    "df = pd.DataFrame(dict_)"
   ]
  },
  {
   "cell_type": "code",
   "execution_count": 256,
   "id": "079190a5",
   "metadata": {
    "ExecuteTime": {
     "end_time": "2021-06-02T10:15:12.643586Z",
     "start_time": "2021-06-02T10:15:12.635607Z"
    }
   },
   "outputs": [
    {
     "data": {
      "text/html": [
       "<div>\n",
       "<style scoped>\n",
       "    .dataframe tbody tr th:only-of-type {\n",
       "        vertical-align: middle;\n",
       "    }\n",
       "\n",
       "    .dataframe tbody tr th {\n",
       "        vertical-align: top;\n",
       "    }\n",
       "\n",
       "    .dataframe thead th {\n",
       "        text-align: right;\n",
       "    }\n",
       "</style>\n",
       "<table border=\"1\" class=\"dataframe\">\n",
       "  <thead>\n",
       "    <tr style=\"text-align: right;\">\n",
       "      <th></th>\n",
       "      <th>book_id</th>\n",
       "      <th>paragraph_id</th>\n",
       "      <th>text</th>\n",
       "    </tr>\n",
       "  </thead>\n",
       "  <tbody>\n",
       "    <tr>\n",
       "      <th>0</th>\n",
       "      <td>36970</td>\n",
       "      <td>36970_0</td>\n",
       "      <td></td>\n",
       "    </tr>\n",
       "    <tr>\n",
       "      <th>1</th>\n",
       "      <td>36970</td>\n",
       "      <td>36970_1</td>\n",
       "      <td>Produced by David Edwards, Linda Hamilton and ...</td>\n",
       "    </tr>\n",
       "    <tr>\n",
       "      <th>2</th>\n",
       "      <td>36970</td>\n",
       "      <td>36970_2</td>\n",
       "      <td>\"Poaching is one of the fine arts--how 'fine' ...</td>\n",
       "    </tr>\n",
       "    <tr>\n",
       "      <th>3</th>\n",
       "      <td>36970</td>\n",
       "      <td>36970_3</td>\n",
       "      <td>[Illustration: THE SQUIRE'S KEEPER.]\\n</td>\n",
       "    </tr>\n",
       "    <tr>\n",
       "      <th>4</th>\n",
       "      <td>36970</td>\n",
       "      <td>36970_4</td>\n",
       "      <td>The\\n   Confessions\\n   of a\\n   Poacher\\n</td>\n",
       "    </tr>\n",
       "  </tbody>\n",
       "</table>\n",
       "</div>"
      ],
      "text/plain": [
       "   book_id paragraph_id                                               text\n",
       "0    36970      36970_0                                                   \n",
       "1    36970      36970_1  Produced by David Edwards, Linda Hamilton and ...\n",
       "2    36970      36970_2  \"Poaching is one of the fine arts--how 'fine' ...\n",
       "3    36970      36970_3             [Illustration: THE SQUIRE'S KEEPER.]\\n\n",
       "4    36970      36970_4         The\\n   Confessions\\n   of a\\n   Poacher\\n"
      ]
     },
     "execution_count": 256,
     "metadata": {},
     "output_type": "execute_result"
    }
   ],
   "source": [
    "df.head()"
   ]
  },
  {
   "cell_type": "code",
   "execution_count": 257,
   "id": "51b4357b",
   "metadata": {
    "ExecuteTime": {
     "end_time": "2021-06-02T10:15:20.585781Z",
     "start_time": "2021-06-02T10:15:20.580506Z"
    }
   },
   "outputs": [
    {
     "data": {
      "text/plain": [
       "(203334, 3)"
      ]
     },
     "execution_count": 257,
     "metadata": {},
     "output_type": "execute_result"
    }
   ],
   "source": [
    "df.shape"
   ]
  },
  {
   "cell_type": "code",
   "execution_count": 258,
   "id": "2d520deb",
   "metadata": {
    "ExecuteTime": {
     "end_time": "2021-06-02T10:15:52.209852Z",
     "start_time": "2021-06-02T10:15:50.226407Z"
    }
   },
   "outputs": [],
   "source": [
    "df.to_csv('gutenberg_data.csv')"
   ]
  },
  {
   "cell_type": "code",
   "execution_count": null,
   "id": "e4a50bed",
   "metadata": {},
   "outputs": [],
   "source": []
  }
 ],
 "metadata": {
  "hide_input": false,
  "kernelspec": {
   "display_name": "Python 3",
   "language": "python",
   "name": "python3"
  },
  "language_info": {
   "codemirror_mode": {
    "name": "ipython",
    "version": 3
   },
   "file_extension": ".py",
   "mimetype": "text/x-python",
   "name": "python",
   "nbconvert_exporter": "python",
   "pygments_lexer": "ipython3",
   "version": "3.8.8"
  },
  "toc": {
   "base_numbering": 1,
   "nav_menu": {},
   "number_sections": true,
   "sideBar": true,
   "skip_h1_title": false,
   "title_cell": "Table of Contents",
   "title_sidebar": "Contents",
   "toc_cell": false,
   "toc_position": {},
   "toc_section_display": true,
   "toc_window_display": false
  }
 },
 "nbformat": 4,
 "nbformat_minor": 5
}
